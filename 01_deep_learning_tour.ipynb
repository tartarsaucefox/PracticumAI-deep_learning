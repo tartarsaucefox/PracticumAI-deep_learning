{
 "cells": [
  {
   "cell_type": "markdown",
   "metadata": {},
   "source": [
    "![Practicum AI Logo image](images/practicum_ai_logo.png) <img src='images/practicumai_deep_learning.png' alt='Practicum AI: Deep Learning Foundations icon' align='right' width=50>\n",
    "\n",
    "***\n",
    "# *Practicum AI:* Deep Learning Basics\n",
    "\n",
    "This exercise is inspired by Baig et al. (2020) <i>The Deep Learning Workshop</i> from <a href=\"https://www.packtpub.com/product/the-deep-learning-workshop/9781839219856\">Packt Publishers</a> (Exercise 1.01, page 7).\n",
    "\n",
    "## Deep learning for image recognition\n",
    "\n",
    "Before diving into exactly _how_ deep learning works, let's explore it through an example. We will explore just a few of the fantastic things you can do with existing models and see how easy it can be to implement AI tools with code. \n",
    "\n",
    "In this exercise, we will use a pre-trained deep learning model, [ResNet50](https://arxiv.org/abs/1512.03385), which has been trained on [ImageNet](https://image-net.org/), a collection of about 1.3 million images labeled as being in one of 1,000 categories. We won't focus on the details of ResNet50, but understand that it is a deep learning image classification model developed to categorize images into one of the 1,000 categories in the ImageNet dataset. Like many models, it is openly available and can be seamlessly imported into your notebook with or without the learned weights.\n",
    "\n",
    "To help with this exercise, let us introduce you to our heroine,  Dr. Amelia. <img alt=\"A cartoon of Dr. Amelia, a nutrition researcher, sitting at a computer thinking about food items which appear in a thought bubble.\" src=\"images/DrAmelia.jpg\" padding=20 align=\"right\" width=250>\n",
    "\n",
    "Amelia is a research nutritionist who is conducting a dietary study in which she analyzes her participants' diets. Experience has shown her that when asked to report the details of their meals, participants frequently either do not enter the data or misreport what they ate. For Amelia's new study, she hopes to have them take photos of their meals and use AI to analyze their diet automatically. As a first step, she wants to test a model to see how well it can recognize a food item from a photo.\n",
    "\n",
    "Dr. Amelia doesn't have much data yet but has learned that using pre-trained models for many tasks is possible, and she hopes to avoid starting her project from scratch. As a prototype, we will help Amelia develop her AI-powered food recognition system!\n",
    "\n",
    "**Note:** Dr. Amelia's cartoon was generated with AI's assistance.\n",
    "\n",
    "Amelia is a *Practicum AI* alumna and recalls the AI Application Development Pathway. \n",
    "\n",
    "![Practicum AI Application Pathway Image](images/application_dev_pathway.png) \n",
    "\n",
    "With her food image processing task, she has already completed Step 1: Choose a Problem! Due to the flexible nature of coding, implementing the following steps will jump around a bit. Don't worry; Amelia knows her stuff and will ensure we know where we are in the development process. Here is an overview of the steps in the application development process and how they correspond to the code in this Jupyter Notebook:\n",
    "\n",
    "1. Choose a Problem - Make a food item classifier that takes an input image and returns the predicted food object!\n",
    "2. Gather Good Data - Amelia is very busy; she doesn't have time to take thousands of food images! Instead, she will use a model that has already been trained to \"recognize\" various food items (and hundreds of other things!).\n",
    "3. Clean and Prep Data - The model she is using already has training data, so she doesn't need to worry about prepping her training data. However, she will have to work to ensure that her new inputs are formatted correctly.\n",
    "4. Choose a Model - Amelia needs a model that is already trained and recognizes images. That narrows her search to models like ResNet (though there is an ever-growing list of possibilities here!).\n",
    "5. Train the Model - Our heroine will use a pre-trained model, so... Done! She is up and running with an AI application without compiling or training anything.\n",
    "6. Evaluate the Model - As part of the evaluation process, Amelia will need to test the model to see how well it recognizes food.\n",
    "7. Deploy the Model - Amelia is comfortable using Jupyter Notebooks, so she will leave the application here for this initial proof of concept. Embedding the model in another application is unnecessary (and beyond the scope of this course!).\n",
    "\n",
    "### <img src='images/note_icon.svg' width=40, align='center' alt='Note icon'> Note\n",
    "\n",
    "> While you may not be looking to classify food items (or have a very different AI project in mind), note that in many cases, there are models with which you start. The relative openness of AI researchers in sharing their models has enabled the community to:\n",
    ">   * Use a trained model \"out of the box,\" as Amelia will.\n",
    ">   * Fine-tune a model with some of your data.\n",
    ">   * Use an existing model architecture and train with your data.\n",
    ">   * Modify an existing model architecture and train with your data.\n",
    "> Rarely is there a need to start from scratch!\n",
    "\n",
    "## 1. Import libraries\n",
    "\n",
    "Import the necessary libraries. For this exercise, Amelia will use the pre-trained ResNet50 model that is part of Keras: `tensorflow.keras.applications.resnet50`. Check out the [Keras documentation](https://www.tensorflow.org/api_docs/python/tf/keras/applications/resnet50/ResNet50) for more details. \n",
    "\n",
    "### <img src='images/note_icon.svg' width=40, align='center' alt='Note icon'> Note\n",
    "> Remember not all red is bad. Read through the output. The most likely error that you will encounter in the cell below that is a real issue is the failure to import a library. For example: `ModuleNotFoundError: No module named 'gtts'`. See the following code block on fixing that if needed. Most other warnings that we see can typically be ignored."
   ]
  },
  {
   "cell_type": "code",
   "execution_count": 1,
   "metadata": {
    "tags": []
   },
   "outputs": [
    {
     "name": "stderr",
     "output_type": "stream",
     "text": [
      "2024-07-18 11:15:37.620243: E external/local_xla/xla/stream_executor/cuda/cuda_dnn.cc:9261] Unable to register cuDNN factory: Attempting to register factory for plugin cuDNN when one has already been registered\n",
      "2024-07-18 11:15:37.620274: E external/local_xla/xla/stream_executor/cuda/cuda_fft.cc:607] Unable to register cuFFT factory: Attempting to register factory for plugin cuFFT when one has already been registered\n",
      "2024-07-18 11:15:37.621077: E external/local_xla/xla/stream_executor/cuda/cuda_blas.cc:1515] Unable to register cuBLAS factory: Attempting to register factory for plugin cuBLAS when one has already been registered\n",
      "2024-07-18 11:15:37.627063: I tensorflow/core/platform/cpu_feature_guard.cc:182] This TensorFlow binary is optimized to use available CPU instructions in performance-critical operations.\n",
      "To enable the following instructions: SSE4.1 SSE4.2 AVX AVX2 AVX512F FMA, in other operations, rebuild TensorFlow with the appropriate compiler flags.\n"
     ]
    }
   ],
   "source": [
    "# Import necessary libraries for image processing and deep learning. \n",
    "# The image processing functions, like img_to_array, will help Amelia format the image to run through her model.\n",
    "\n",
    "from tensorflow.keras.preprocessing.image import load_img\n",
    "from tensorflow.keras.preprocessing.image import img_to_array\n",
    "from tensorflow.keras.applications.resnet50 import ResNet50\n",
    "from tensorflow.keras.applications.resnet50 import preprocess_input\n",
    "from tensorflow.keras.applications.resnet50 import decode_predictions\n",
    "\n",
    "# Import base tensorflow and set seed to achieve consistent results.\n",
    "import tensorflow as tf \n",
    "import numpy as np\n",
    "\n",
    "# Import Google text-to-speech used later in the notebook.\n",
    "from gtts import gTTS\n",
    "import os\n",
    "\n",
    "# Set the seed for reproducibility.\n",
    "seed = 42  \n",
    "\n",
    "tf.random.set_seed(seed)\n",
    "np.random.seed(seed)"
   ]
  },
  {
   "cell_type": "code",
   "execution_count": null,
   "metadata": {
    "tags": []
   },
   "outputs": [],
   "source": [
    "# If you are using a system that doesn't have gTTS you may need to install it.\n",
    "# If you get an import error, use the following code (without the hashtag, of course) to install gTTS:\n",
    "# !pip install gTTS\n",
    "\n",
    "# Once installed, re-run the main import block to import everything."
   ]
  },
  {
   "cell_type": "markdown",
   "metadata": {},
   "source": [
    ">## <img src='images/alert_icon.svg' alt=\"Alert icon\" width=40 align=center> Did you get an error here?\n",
    ">\n",
    ">If you got an error running the cell above, it is probably because the environment you are working in doesn't have `numpy` or `pandas` installed.\n",
    ">\n",
    ">### For Google Colab\n",
    ">\n",
    ">On Google Colab, this shouldn't be an issue (for these libraries), and if you do run into this in the future, it is generally OK (and expected in Colab) to use `!pip install ___` to install a library. In Colab, each notebook is independent of other notebooks, so the installation of packages has limited impact. But, be especially careful doing this on HPC systems; installing things that cause compatibility issues is easy.\n",
    ">\n",
    ">### For Jupyter on HPC systems\n",
    ">\n",
    ">For most of what the *Practicum AI* courses cover, an environment (known as a **kernel**) will be ready for you to use. Check the kernel if you run into an error about a missing library. The current kernel is shown in the top right of the notebook:\n",
    ">\n",
    ">![Screenshot of a Jupyter notebook showing the currently selected kernel](images/kernel.png)\n",
    ">\n",
    ">For this notebook on HiPerGator, we will use the **Tensorflow-2.15** kernel."
   ]
  },
  {
   "cell_type": "markdown",
   "metadata": {},
   "source": [
    "## 2. Instantiate the Resnet50 model\n",
    "\n",
    "Instantiating is a programming term that means taking the 'blueprint' of something (in this case, ResNet50) and making an object out of it (the model we will use here). This step creates the instance of the model to use.\n",
    "\n",
    "### <img src='images/note_icon.svg' width=40, align='center' alt='Note icon'> Some Background on ResNet \n",
    "> ResNet, which stands for Residual Network, won the 2015 ImageNet competition. It was introduced to address the vanishing gradient problem commonly faced when training very deep neural networks. As networks become deeper, gradients (the values used to update network weights) can become extremely small, effectively halting training. \n",
    "> ResNet introduces the concept of \"residual blocks.\"  As it processes data, instead of relying solely on the current \"thought\" or layer, it can also \"refer back\" to earlier layers, much like using recent memories to help recall older ones. These \"references back\" are called skip connections. They act like bridges, letting the network jump over some layers to ensure that even as it delves deeper into processing, it remembers and retains important early details. This shortcut or skip connection allows gradients to propagate more easily through the network. \n",
    "> This architectural innovation has enabled the training of networks with depths previously thought infeasible. With hundreds or even thousands of layers, ResNet models have achieved state-of-the-art performance on many image classification benchmarks. \n",
    "> In this unit’s exercise, we used the ResNet50 model, which, as its name suggests, consists of 50 layers.\n",
    "\n",
    "```python\n",
    "# Create an instance of the ResNet50 model pre-trained on ImageNet data\n",
    "my_model = ResNet50()\n",
    "```"
   ]
  },
  {
   "cell_type": "code",
   "execution_count": 2,
   "metadata": {
    "tags": []
   },
   "outputs": [
    {
     "name": "stderr",
     "output_type": "stream",
     "text": [
      "2024-07-18 11:20:40.194266: E external/local_xla/xla/stream_executor/cuda/cuda_driver.cc:274] failed call to cuInit: CUDA_ERROR_SYSTEM_DRIVER_MISMATCH: system has unsupported display driver / cuda driver combination\n",
      "2024-07-18 11:20:40.194293: I external/local_xla/xla/stream_executor/cuda/cuda_diagnostics.cc:129] retrieving CUDA diagnostic information for host: c39a-s21.ufhpc\n",
      "2024-07-18 11:20:40.194298: I external/local_xla/xla/stream_executor/cuda/cuda_diagnostics.cc:136] hostname: c39a-s21.ufhpc\n",
      "2024-07-18 11:20:40.194436: I external/local_xla/xla/stream_executor/cuda/cuda_diagnostics.cc:159] libcuda reported version is: 535.104.5\n",
      "2024-07-18 11:20:40.194449: I external/local_xla/xla/stream_executor/cuda/cuda_diagnostics.cc:163] kernel reported version is: 550.54.15\n",
      "2024-07-18 11:20:40.194454: E external/local_xla/xla/stream_executor/cuda/cuda_diagnostics.cc:244] kernel version 550.54.15 does not match DSO version 535.104.5 -- cannot find working devices in this configuration\n"
     ]
    },
    {
     "name": "stdout",
     "output_type": "stream",
     "text": [
      "Downloading data from https://storage.googleapis.com/tensorflow/keras-applications/resnet/resnet50_weights_tf_dim_ordering_tf_kernels.h5\n",
      "102967424/102967424 [==============================] - 3s 0us/step\n"
     ]
    }
   ],
   "source": [
    "# Code it!\n",
    "my_model = ResNet50()"
   ]
  },
  {
   "cell_type": "markdown",
   "metadata": {},
   "source": [
    "## 3. Load image\n",
    "\n",
    "While developing her system, Amelia will use a test image of her favorite pizza to test the system. Let's load in her pizza image.\n",
    "\n",
    "Since ResNet50 was trained using images that are 224X224 pixels, we need to transform the input image to be the same size.\n",
    "\n",
    "### <img src='images/tip_icon.svg' width=40, align='center' alt='Tip icon'> Tip\n",
    "> The pizza image is stored in the images folder; the complete path of the\n",
    "> location where the image is located must be given.\n",
    "\n",
    "\n",
    "```python\n",
    "# Load an image file for testing, resizing it to the required input size of 224x224 pixels\n",
    "my_image = load_img('images/pizza.jpg', target_size = (224, 224))\n",
    "```\n",
    "\n",
    "\n",
    "> If running on Google Colab, you have a couple of choices:\n",
    ">\n",
    "> 1. Change the `'images/pizza.jpg'` to use the web location of the \n",
    "> image in this repository:\n",
    "> `'https://raw.githubusercontent.com/PracticumAI/deep_learning/main/images/pizza.jpg'`\n",
    "> 1. Find any image of pizza, and upload it using the Files tab as in \n",
    "> the image below. Then right click and \"Copy path\", and use that path. [Click here](images/colab_img_upload.png) to see an screenshot of this if needed. "
   ]
  },
  {
   "cell_type": "code",
   "execution_count": 3,
   "metadata": {
    "tags": []
   },
   "outputs": [],
   "source": [
    "# Code it!\n",
    "my_image = load_img('images/pizza.jpg', target_size = (224, 224))"
   ]
  },
  {
   "cell_type": "markdown",
   "metadata": {},
   "source": [
    "## 4. View the pizza image\n",
    "\n",
    "Let's take a quick look at the image to verify that it's a pizza.  Type the variable name and run the code block.\n",
    "\n",
    "```python\n",
    "my_image\n",
    "```"
   ]
  },
  {
   "cell_type": "code",
   "execution_count": 4,
   "metadata": {
    "tags": []
   },
   "outputs": [
    {
     "data": {
      "image/jpeg": "[encoded data removed]",
      "image/png": "[encoded data removed]",
      "text/plain": [
       "<PIL.Image.Image image mode=RGB size=224x224>"
      ]
     },
     "execution_count": 4,
     "metadata": {},
     "output_type": "execute_result"
    }
   ],
   "source": [
    "# Code it!\n",
    "\n",
    "my_image"
   ]
  },
  {
   "cell_type": "markdown",
   "metadata": {},
   "source": [
    "## 5. Convert image to array\n",
    "\n",
    "Convert the image to an array because the model expects it in this format. Take a quick look at the output too.\n",
    "\n",
    "```python\n",
    "# Convert the loaded image to an array format suitable for processing\n",
    "my_image = img_to_array(my_image) \n",
    "# View what my_image looks like now\n",
    "my_image \n",
    "```"
   ]
  },
  {
   "cell_type": "code",
   "execution_count": 5,
   "metadata": {
    "tags": []
   },
   "outputs": [
    {
     "data": {
      "text/plain": [
       "array([[[ 70.,  42.,  41.],\n",
       "        [ 85.,  54.,  49.],\n",
       "        [ 64.,  42.,  44.],\n",
       "        ...,\n",
       "        [ 93.,  70.,  56.],\n",
       "        [ 83.,  64.,  50.],\n",
       "        [104.,  75.,  57.]],\n",
       "\n",
       "       [[ 61.,  35.,  34.],\n",
       "        [ 72.,  43.,  39.],\n",
       "        [ 73.,  43.,  43.],\n",
       "        ...,\n",
       "        [ 86.,  64.,  51.],\n",
       "        [ 77.,  59.,  49.],\n",
       "        [ 93.,  70.,  54.]],\n",
       "\n",
       "       [[ 83.,  48.,  44.],\n",
       "        [ 67.,  43.,  41.],\n",
       "        [ 90.,  52.,  49.],\n",
       "        ...,\n",
       "        [ 74.,  57.,  49.],\n",
       "        [ 71.,  54.,  44.],\n",
       "        [ 95.,  68.,  49.]],\n",
       "\n",
       "       ...,\n",
       "\n",
       "       [[ 85.,  56.,  40.],\n",
       "        [139., 105.,  80.],\n",
       "        [110.,  79.,  61.],\n",
       "        ...,\n",
       "        [ 31.,  23.,  20.],\n",
       "        [ 19.,  18.,  16.],\n",
       "        [ 42.,  33.,  28.]],\n",
       "\n",
       "       [[ 99.,  66.,  49.],\n",
       "        [148., 108.,  82.],\n",
       "        [ 99.,  73.,  56.],\n",
       "        ...,\n",
       "        [ 32.,  24.,  21.],\n",
       "        [ 21.,  20.,  18.],\n",
       "        [ 38.,  29.,  24.]],\n",
       "\n",
       "       [[ 90.,  61.,  47.],\n",
       "        [146., 109.,  82.],\n",
       "        [147., 110.,  83.],\n",
       "        ...,\n",
       "        [ 36.,  27.,  22.],\n",
       "        [ 24.,  20.,  17.],\n",
       "        [ 52.,  35.,  25.]]], dtype=float32)"
      ]
     },
     "execution_count": 5,
     "metadata": {},
     "output_type": "execute_result"
    }
   ],
   "source": [
    "# Code it!\n",
    "my_image = img_to_array(my_image)\n",
    "my_image"
   ]
  },
  {
   "cell_type": "markdown",
   "metadata": {},
   "source": [
    "## 6. Reshape image\n",
    "\n",
    "Reshape the image.  All images fed to this model need to be 224 pixels high and 224 pixels wide, with 3 channels, one for each color (red, green, blue).  If our image was grayscale, how many channels would we specify?\n",
    "\n",
    "```python\n",
    "# Reshape the image array to the format the model expects (batch size, height, width, color channels)\n",
    "my_image = my_image.reshape((1, 224, 224, 3)) \n",
    "```"
   ]
  },
  {
   "cell_type": "code",
   "execution_count": 6,
   "metadata": {
    "tags": []
   },
   "outputs": [],
   "source": [
    "# Code it!\n",
    "my_image = my_image.reshape((1, 224, 224, 3))"
   ]
  },
  {
   "cell_type": "markdown",
   "metadata": {},
   "source": [
    "## 7. Preprocess image\n",
    "\n",
    "Execute the *preprocess_input()* function, which we imported from `tensorflow.keras.applications.resnet50`,  with the image as input.\n",
    "\n",
    "```python\n",
    "# Preprocess the image to ensure its values are appropriate for the ResNet50 model\n",
    "my_image = preprocess_input(my_image) \n",
    "# View the output\n",
    "my_image\n",
    "```"
   ]
  },
  {
   "cell_type": "code",
   "execution_count": 7,
   "metadata": {
    "tags": []
   },
   "outputs": [
    {
     "data": {
      "text/plain": [
       "array([[[[ -62.939003 ,  -74.779    ,  -53.68     ],\n",
       "         [ -54.939003 ,  -62.779    ,  -38.68     ],\n",
       "         [ -59.939003 ,  -74.779    ,  -59.68     ],\n",
       "         ...,\n",
       "         [ -47.939003 ,  -46.779    ,  -30.68     ],\n",
       "         [ -53.939003 ,  -52.779    ,  -40.68     ],\n",
       "         [ -46.939003 ,  -41.779    ,  -19.68     ]],\n",
       "\n",
       "        [[ -69.939    ,  -81.779    ,  -62.68     ],\n",
       "         [ -64.939    ,  -73.779    ,  -51.68     ],\n",
       "         [ -60.939003 ,  -73.779    ,  -50.68     ],\n",
       "         ...,\n",
       "         [ -52.939003 ,  -52.779    ,  -37.68     ],\n",
       "         [ -54.939003 ,  -57.779    ,  -46.68     ],\n",
       "         [ -49.939003 ,  -46.779    ,  -30.68     ]],\n",
       "\n",
       "        [[ -59.939003 ,  -68.779    ,  -40.68     ],\n",
       "         [ -62.939003 ,  -73.779    ,  -56.68     ],\n",
       "         [ -54.939003 ,  -64.779    ,  -33.68     ],\n",
       "         ...,\n",
       "         [ -54.939003 ,  -59.779    ,  -49.68     ],\n",
       "         [ -59.939003 ,  -62.779    ,  -52.68     ],\n",
       "         [ -54.939003 ,  -48.779    ,  -28.68     ]],\n",
       "\n",
       "        ...,\n",
       "\n",
       "        [[ -63.939003 ,  -60.779    ,  -38.68     ],\n",
       "         [ -23.939003 ,  -11.778999 ,   15.32     ],\n",
       "         [ -42.939003 ,  -37.779    ,  -13.68     ],\n",
       "         ...,\n",
       "         [ -83.939    ,  -93.779    ,  -92.68     ],\n",
       "         [ -87.939    ,  -98.779    , -104.68     ],\n",
       "         [ -75.939    ,  -83.779    ,  -81.68     ]],\n",
       "\n",
       "        [[ -54.939003 ,  -50.779    ,  -24.68     ],\n",
       "         [ -21.939003 ,   -8.778999 ,   24.32     ],\n",
       "         [ -47.939003 ,  -43.779    ,  -24.68     ],\n",
       "         ...,\n",
       "         [ -82.939    ,  -92.779    ,  -91.68     ],\n",
       "         [ -85.939    ,  -96.779    , -102.68     ],\n",
       "         [ -79.939    ,  -87.779    ,  -85.68     ]],\n",
       "\n",
       "        [[ -56.939003 ,  -55.779    ,  -33.68     ],\n",
       "         [ -21.939003 ,   -7.7789993,   22.32     ],\n",
       "         [ -20.939003 ,   -6.7789993,   23.32     ],\n",
       "         ...,\n",
       "         [ -81.939    ,  -89.779    ,  -87.68     ],\n",
       "         [ -86.939    ,  -96.779    ,  -99.68     ],\n",
       "         [ -78.939    ,  -81.779    ,  -71.68     ]]]], dtype=float32)"
      ]
     },
     "execution_count": 7,
     "metadata": {},
     "output_type": "execute_result"
    }
   ],
   "source": [
    "# Code it!\n",
    "my_image = preprocess_input(my_image)\n",
    "my_image"
   ]
  },
  {
   "cell_type": "markdown",
   "metadata": {},
   "source": [
    "### <img src='images/note_icon.svg' width=40, align='center' alt='Note icon'> What is returned by `preprocess_input()`? \n",
    "\n",
    "> From the documentation, you will see that the `tensorflow.keras.applications.resnet50.preprocess_input` function returns:\n",
    ">  > The images are converted from RGB to BGR, then each color channel is zero-centered with respect to the ImageNet dataset, without scaling.\n",
    ">\n",
    "> Again, this function is designed to get input images into the format that was used in training the model. It's a bit of an odd format (non-standard color channel order and not scaled), but that's what was used during training, so that is what we need to use at inference time."
   ]
  },
  {
   "cell_type": "markdown",
   "metadata": {},
   "source": [
    "## 8. Execute predict method\n",
    "\n",
    "Execute the model's predict method.\n",
    "\n",
    "```python\n",
    "# Use the model to predict the class (or category) of the image\n",
    "my_result = my_model.predict(my_image) \n",
    "# View the result\n",
    "my_result \n",
    "```"
   ]
  },
  {
   "cell_type": "code",
   "execution_count": 8,
   "metadata": {
    "tags": []
   },
   "outputs": [
    {
     "name": "stdout",
     "output_type": "stream",
     "text": [
      "1/1 [==============================] - 1s 918ms/step\n"
     ]
    },
    {
     "data": {
      "text/plain": [
       "array([[7.48169970e-09, 1.81926101e-08, 3.96916918e-12, 2.90526912e-12,\n",
       "        6.19736068e-11, 7.89463356e-11, 1.47675261e-10, 1.02964443e-10,\n",
       "        2.89854168e-10, 2.73749166e-11, 2.55627158e-10, 1.47379817e-10,\n",
       "        4.59583083e-09, 1.33092803e-09, 6.78984979e-10, 1.09028842e-09,\n",
       "        7.05243242e-12, 4.69077710e-09, 9.21900334e-09, 7.96422317e-10,\n",
       "        1.75413286e-13, 6.45029473e-12, 8.42222646e-12, 4.73978704e-11,\n",
       "        4.42771965e-11, 1.10616805e-09, 2.50115328e-11, 2.19975194e-09,\n",
       "        4.35273106e-09, 2.09147963e-10, 1.40235989e-10, 3.88312604e-10,\n",
       "        2.11071965e-10, 8.60922306e-11, 2.92306283e-11, 4.89598895e-09,\n",
       "        1.98983252e-09, 4.19723136e-08, 1.56814103e-10, 5.64241454e-08,\n",
       "        6.30659136e-10, 6.33256669e-10, 5.66350167e-09, 8.66879812e-09,\n",
       "        1.58539154e-10, 2.59048699e-10, 2.05946771e-09, 2.37726994e-09,\n",
       "        2.03186190e-10, 2.06470847e-11, 3.36570993e-10, 1.20157190e-10,\n",
       "        1.02766289e-10, 8.91835050e-10, 1.08711182e-08, 2.24603114e-10,\n",
       "        7.89317292e-11, 8.13342171e-11, 5.39633060e-10, 5.48689649e-10,\n",
       "        3.48475915e-09, 8.96359320e-10, 1.61229086e-10, 4.55318921e-10,\n",
       "        3.23881588e-10, 9.41792547e-11, 2.67062188e-11, 6.23269214e-09,\n",
       "        2.79909741e-11, 6.46426454e-11, 4.95152896e-09, 3.84583165e-09,\n",
       "        6.45476894e-10, 2.56453442e-10, 1.34134428e-08, 4.31469749e-10,\n",
       "        2.93643954e-08, 1.53747381e-09, 4.14168672e-10, 8.08933309e-10,\n",
       "        2.95728611e-12, 7.04591116e-12, 5.13289800e-10, 2.89704632e-12,\n",
       "        8.14242840e-10, 1.08358178e-09, 3.14818616e-10, 2.41062781e-10,\n",
       "        1.26076746e-10, 2.64018918e-10, 6.14613416e-10, 1.25648478e-10,\n",
       "        6.61702680e-12, 2.28759811e-09, 3.25082239e-10, 1.84595828e-12,\n",
       "        7.81491982e-10, 1.05553045e-10, 1.77973210e-13, 1.41641551e-11,\n",
       "        9.62252153e-12, 2.49195498e-10, 3.54157925e-10, 3.80412118e-10,\n",
       "        5.13304454e-10, 2.69973405e-10, 1.32680616e-10, 1.31763891e-10,\n",
       "        4.81329254e-10, 1.71465724e-11, 7.20164510e-12, 8.70769915e-11,\n",
       "        1.10472376e-09, 1.75778359e-09, 3.12941317e-09, 5.53463352e-11,\n",
       "        8.22066468e-08, 2.44776932e-09, 1.56328531e-06, 5.84230577e-07,\n",
       "        2.46696608e-10, 9.85054527e-08, 2.12592575e-08, 9.09558139e-07,\n",
       "        4.59417862e-07, 4.66511385e-10, 4.63018734e-10, 4.37073815e-11,\n",
       "        9.89726964e-12, 3.76576895e-12, 6.70161843e-12, 2.17102322e-10,\n",
       "        1.94218721e-11, 4.32742904e-11, 2.59449212e-10, 7.82581985e-11,\n",
       "        3.41194226e-11, 6.67908307e-12, 2.56284109e-11, 7.34932185e-11,\n",
       "        6.70556041e-11, 1.25359890e-12, 3.19314399e-13, 1.97839293e-12,\n",
       "        1.07780842e-12, 1.79744154e-12, 2.60995842e-13, 5.87195093e-12,\n",
       "        5.53333247e-12, 1.97399410e-12, 4.28084262e-10, 5.36003797e-10,\n",
       "        1.84887218e-12, 2.55677701e-11, 5.40736511e-10, 3.87112564e-09,\n",
       "        4.07970074e-10, 5.27208589e-11, 3.29413823e-11, 3.78934306e-09,\n",
       "        7.38850786e-11, 1.94960093e-09, 6.83365009e-09, 1.67080072e-09,\n",
       "        8.28342450e-10, 5.54863100e-10, 5.34147032e-11, 5.92865063e-11,\n",
       "        1.21671762e-09, 7.81345932e-10, 8.52030738e-11, 1.15043391e-10,\n",
       "        3.59805623e-11, 3.00177314e-11, 1.74876469e-09, 1.17403517e-10,\n",
       "        2.67443123e-10, 1.51073223e-10, 4.29952407e-10, 2.27865793e-09,\n",
       "        1.27182265e-09, 1.09850740e-11, 2.54820631e-09, 1.68407760e-10,\n",
       "        9.84958675e-08, 5.74149706e-09, 1.78441950e-09, 4.64254996e-10,\n",
       "        2.68219585e-10, 1.66619998e-08, 1.13027339e-11, 4.57955496e-09,\n",
       "        6.09754858e-10, 6.85600110e-09, 1.14232690e-09, 6.03675154e-09,\n",
       "        1.29007999e-10, 5.70023403e-11, 5.24895856e-11, 1.92758851e-10,\n",
       "        2.49963356e-10, 1.30024783e-10, 3.58218699e-09, 3.51732449e-10,\n",
       "        2.20234525e-10, 9.99181293e-10, 1.10981717e-10, 1.23606327e-07,\n",
       "        2.92589561e-08, 3.74979914e-09, 4.61387309e-12, 2.63110667e-09,\n",
       "        1.79141724e-09, 6.90363455e-09, 1.35333383e-10, 2.26046404e-09,\n",
       "        1.37589440e-10, 8.07613643e-10, 1.79794846e-09, 1.35723326e-08,\n",
       "        2.07845696e-09, 1.30543881e-10, 1.61013050e-10, 3.66377845e-10,\n",
       "        6.40882625e-10, 5.58792734e-10, 1.15436175e-10, 3.26319111e-10,\n",
       "        1.27469918e-11, 1.21952129e-10, 8.40762959e-10, 5.14161880e-10,\n",
       "        3.11486975e-10, 1.01048850e-10, 4.32373737e-09, 8.20821577e-10,\n",
       "        2.44528686e-09, 4.66595040e-10, 2.15141949e-09, 6.40967574e-12,\n",
       "        2.94858749e-10, 4.97698716e-10, 2.68276901e-10, 2.17788432e-09,\n",
       "        8.74539417e-12, 1.31044131e-09, 3.04994779e-10, 9.47345188e-11,\n",
       "        4.11193357e-10, 2.50887089e-10, 3.51622620e-09, 7.82658438e-10,\n",
       "        4.37898225e-11, 7.38613004e-10, 2.41965337e-09, 1.37879252e-09,\n",
       "        2.18565788e-09, 6.86494472e-11, 3.46483328e-11, 4.90355934e-09,\n",
       "        4.96800823e-09, 4.02353567e-10, 9.03189690e-10, 7.03155711e-09,\n",
       "        1.45867762e-09, 7.65973229e-10, 3.27230326e-10, 1.64487146e-10,\n",
       "        2.49267152e-11, 4.98364371e-11, 5.30686224e-11, 3.28557910e-11,\n",
       "        4.69550752e-11, 4.31333136e-10, 2.39233702e-11, 3.82418333e-11,\n",
       "        5.91334828e-11, 1.73329995e-09, 3.65774390e-11, 3.48946497e-11,\n",
       "        2.06084205e-10, 2.73157452e-09, 6.47964384e-08, 1.15982701e-09,\n",
       "        3.13967252e-09, 2.46966392e-10, 4.43102499e-10, 8.58438598e-10,\n",
       "        5.61991530e-11, 1.58685790e-11, 7.56369203e-11, 2.94115621e-10,\n",
       "        8.42822923e-10, 3.42948690e-11, 2.46866399e-11, 4.07958417e-10,\n",
       "        1.40406057e-12, 5.61202057e-11, 2.55485164e-11, 2.08199513e-10,\n",
       "        7.16145032e-10, 3.78330339e-10, 1.02136721e-09, 9.48756074e-10,\n",
       "        3.40001638e-10, 1.04518161e-09, 3.17381565e-10, 3.20658833e-10,\n",
       "        1.46176915e-09, 5.74849612e-10, 7.80533060e-09, 5.07068165e-09,\n",
       "        3.61068175e-09, 1.97288035e-08, 2.63696506e-07, 2.87304780e-09,\n",
       "        3.89808807e-09, 1.40268630e-10, 6.13940843e-10, 7.02581604e-10,\n",
       "        3.96258304e-11, 1.88492399e-09, 8.15222542e-12, 3.26482996e-09,\n",
       "        9.36833458e-11, 3.02858599e-10, 6.22795981e-10, 6.96593006e-10,\n",
       "        2.36103510e-08, 1.06590715e-10, 5.41748202e-10, 1.19736235e-10,\n",
       "        3.53311880e-10, 4.34092691e-08, 8.51508464e-09, 1.31293683e-11,\n",
       "        7.23657809e-12, 7.94596999e-10, 2.14009184e-08, 2.15909617e-11,\n",
       "        1.17375033e-11, 2.51715981e-09, 3.59529323e-10, 2.18138667e-11,\n",
       "        2.13852980e-11, 4.61980398e-10, 2.99729547e-10, 2.02576220e-11,\n",
       "        1.87302032e-11, 2.86586271e-12, 1.63947363e-11, 2.80087433e-12,\n",
       "        3.68909590e-12, 1.73740571e-11, 2.11239394e-11, 1.66634123e-10,\n",
       "        4.00889683e-10, 2.26882853e-11, 7.12130910e-10, 2.67257994e-10,\n",
       "        9.40776415e-11, 4.84493334e-09, 9.51755785e-10, 1.89460558e-09,\n",
       "        1.13627649e-10, 2.67036365e-10, 5.07381116e-11, 1.07106884e-11,\n",
       "        3.13141180e-10, 1.63291928e-12, 6.99504482e-11, 4.13715277e-11,\n",
       "        7.43804844e-12, 2.11851203e-10, 3.51004614e-10, 3.65066276e-11,\n",
       "        6.40530684e-10, 4.48751453e-11, 9.99714547e-11, 1.76190812e-10,\n",
       "        6.62478405e-11, 2.10602161e-11, 3.73320486e-10, 7.04623790e-11,\n",
       "        4.54165941e-11, 8.14509640e-11, 2.32844265e-11, 1.74719761e-09,\n",
       "        3.27725014e-10, 3.21309472e-11, 6.10826945e-10, 6.31257269e-10,\n",
       "        1.74127397e-11, 4.37626844e-11, 5.74897248e-12, 6.39051381e-11,\n",
       "        2.64163524e-10, 3.60611506e-11, 2.33746489e-09, 7.00961650e-11,\n",
       "        7.50620052e-12, 4.11635920e-10, 1.97090477e-09, 1.15585818e-13,\n",
       "        3.61301463e-14, 5.97080328e-13, 1.30727154e-08, 7.61497376e-12,\n",
       "        9.82502534e-12, 1.93199429e-10, 6.27873420e-10, 1.13496455e-07,\n",
       "        1.20720651e-05, 8.51922255e-10, 6.88076085e-09, 2.33460332e-06,\n",
       "        3.41838255e-12, 3.53615089e-11, 4.32815554e-11, 3.04477471e-10,\n",
       "        1.09119853e-07, 2.47194459e-10, 2.54687244e-11, 3.00534431e-10,\n",
       "        8.60007638e-12, 3.92324750e-09, 5.34814082e-10, 1.61410571e-05,\n",
       "        3.34770710e-04, 3.93932005e-11, 5.09076288e-12, 1.91255414e-11,\n",
       "        1.71540976e-11, 3.66630025e-11, 3.90049416e-11, 1.44677692e-09,\n",
       "        1.64811446e-11, 1.29266051e-11, 2.74998340e-11, 7.48515659e-12,\n",
       "        1.57344171e-09, 2.49232107e-10, 1.47228937e-10, 1.50871529e-08,\n",
       "        2.36111852e-10, 3.65502573e-10, 4.98669578e-11, 5.31374944e-11,\n",
       "        3.04500993e-08, 2.06815440e-10, 5.17844188e-12, 2.15556888e-08,\n",
       "        2.08413464e-08, 3.52816398e-09, 1.46107781e-09, 1.45247903e-08,\n",
       "        1.54952351e-09, 1.31757416e-09, 3.09611963e-08, 7.12774700e-11,\n",
       "        1.24583488e-09, 2.71963060e-11, 9.56942259e-09, 1.65770598e-06,\n",
       "        2.82265789e-09, 3.72220414e-11, 1.68850480e-12, 1.20580737e-07,\n",
       "        2.03798558e-11, 3.70196576e-05, 3.99831546e-09, 1.85279188e-11,\n",
       "        1.64881833e-08, 1.86394145e-09, 8.97039998e-10, 8.56302806e-10,\n",
       "        9.03465358e-10, 2.55490039e-11, 1.38068734e-09, 1.63151687e-10,\n",
       "        5.20501212e-11, 1.41279066e-09, 1.54063470e-10, 4.55326693e-10,\n",
       "        1.30795732e-12, 2.90781677e-10, 2.77631529e-10, 1.86677447e-08,\n",
       "        6.82016998e-10, 8.23795787e-09, 3.07036861e-11, 8.97701982e-11,\n",
       "        2.08321271e-08, 3.20555471e-10, 1.24539778e-09, 7.36655958e-10,\n",
       "        1.37007083e-09, 6.67429223e-09, 1.89015040e-10, 2.68191229e-06,\n",
       "        4.02480757e-11, 7.08578057e-11, 2.30390143e-08, 9.14751261e-11,\n",
       "        1.81169497e-08, 4.98827069e-09, 2.70962097e-08, 1.95527511e-10,\n",
       "        2.46557486e-09, 6.83330157e-08, 1.94369538e-11, 6.93987706e-12,\n",
       "        2.58124883e-10, 5.26237109e-11, 1.37241163e-09, 1.07539933e-09,\n",
       "        7.76199105e-10, 9.20535523e-12, 1.78724668e-09, 2.29904330e-07,\n",
       "        1.89158498e-11, 1.05295430e-05, 5.01851005e-10, 3.75669984e-09,\n",
       "        2.29181899e-11, 2.87798940e-09, 6.24833796e-11, 2.30217165e-11,\n",
       "        1.05409659e-09, 4.53112298e-10, 2.77754781e-11, 2.81072266e-11,\n",
       "        5.31504782e-07, 1.90483540e-08, 2.69585274e-11, 1.56164803e-11,\n",
       "        1.34126377e-10, 4.15180607e-12, 4.37571979e-10, 3.32018999e-07,\n",
       "        2.19498014e-11, 2.22500285e-09, 9.79118800e-11, 9.48504122e-11,\n",
       "        7.78684509e-04, 1.79864040e-10, 5.31616751e-09, 7.76939982e-13,\n",
       "        2.50257540e-11, 5.83452398e-10, 4.05858593e-12, 4.12083700e-10,\n",
       "        2.07451514e-10, 8.95179972e-11, 2.70517961e-12, 3.55494193e-12,\n",
       "        2.16060002e-07, 2.10718699e-11, 5.01186204e-10, 6.80869050e-07,\n",
       "        3.08130431e-11, 4.68368261e-11, 4.09700078e-08, 2.36557059e-11,\n",
       "        2.21830540e-11, 2.56874078e-09, 8.22665963e-11, 1.12648902e-03,\n",
       "        7.32806038e-11, 1.38556855e-08, 3.98660105e-10, 3.25185967e-09,\n",
       "        5.77326542e-09, 1.44029667e-11, 2.12242424e-09, 4.63060201e-10,\n",
       "        3.18948001e-09, 1.04828652e-08, 6.90604463e-09, 2.51166865e-09,\n",
       "        7.47354534e-08, 3.05660386e-10, 1.83963709e-06, 2.08158601e-10,\n",
       "        1.17559107e-09, 3.67148034e-10, 3.09233160e-11, 2.34401898e-09,\n",
       "        1.18522270e-09, 1.13250798e-09, 5.13618557e-11, 3.50366514e-10,\n",
       "        5.96453486e-12, 2.82470852e-10, 4.53750593e-10, 7.08038975e-11,\n",
       "        7.04128711e-09, 4.93830310e-10, 4.42744903e-11, 2.07914186e-10,\n",
       "        8.67537653e-10, 8.07333367e-10, 5.91305260e-12, 1.19731433e-10,\n",
       "        2.93260249e-10, 1.21691657e-10, 8.66140146e-11, 5.20831733e-08,\n",
       "        4.62718558e-10, 4.31906733e-11, 2.85719309e-10, 7.24591928e-07,\n",
       "        1.13378107e-09, 7.46030321e-11, 4.86165384e-08, 2.04255033e-11,\n",
       "        1.57688602e-11, 3.17293622e-11, 2.71333192e-06, 5.09972109e-09,\n",
       "        6.05943962e-10, 3.63134802e-08, 4.78534767e-09, 5.54898016e-10,\n",
       "        9.96138103e-11, 5.01037788e-11, 4.34966019e-09, 1.44744133e-10,\n",
       "        3.30898677e-11, 1.85639646e-11, 2.62328936e-09, 1.88222344e-08,\n",
       "        6.95444702e-10, 9.34226918e-10, 4.76797733e-11, 1.36730557e-10,\n",
       "        1.33429143e-08, 1.17315899e-08, 1.82091425e-11, 3.10183025e-11,\n",
       "        6.34633013e-09, 5.62240587e-10, 3.99598583e-11, 5.41721601e-09,\n",
       "        2.76434015e-11, 2.16658871e-10, 2.80765938e-10, 5.93204819e-10,\n",
       "        4.03929667e-11, 7.03924252e-10, 1.13368530e-10, 3.68374558e-08,\n",
       "        8.42144340e-11, 2.28371604e-07, 3.17091770e-10, 9.01980712e-11,\n",
       "        7.77529707e-10, 2.26185780e-12, 6.69361899e-09, 2.33570790e-06,\n",
       "        1.16691434e-09, 8.28749777e-11, 1.99660913e-11, 9.15243437e-11,\n",
       "        4.37572811e-10, 2.90269669e-10, 9.68987592e-08, 6.39240660e-10,\n",
       "        3.31086825e-11, 1.30827307e-10, 7.43127837e-10, 3.01162567e-11,\n",
       "        3.92055222e-10, 2.50626436e-10, 5.95758998e-11, 9.37333457e-12,\n",
       "        1.50799734e-10, 7.35807748e-10, 1.81139936e-10, 6.09171948e-08,\n",
       "        9.78573212e-12, 4.82320850e-10, 9.96944638e-10, 8.48657117e-11,\n",
       "        1.29347821e-09, 9.95192331e-11, 7.01551100e-12, 1.39770015e-10,\n",
       "        1.16383899e-11, 3.70064153e-11, 1.33641487e-09, 7.29311680e-11,\n",
       "        4.12818082e-08, 1.02970489e-07, 1.87558701e-11, 6.01288075e-10,\n",
       "        8.90324614e-09, 1.41805083e-11, 5.95439878e-11, 5.38869893e-10,\n",
       "        3.12809618e-08, 5.39944174e-13, 2.25648750e-13, 1.09863628e-07,\n",
       "        9.59116231e-10, 7.05761317e-12, 1.35974405e-08, 4.75418593e-10,\n",
       "        3.31056682e-10, 6.57899013e-10, 4.67115280e-09, 3.49410050e-11,\n",
       "        7.84583565e-10, 4.97369160e-11, 6.21091345e-10, 5.28115138e-12,\n",
       "        4.40001990e-08, 8.87534490e-11, 7.03372638e-10, 1.91728404e-11,\n",
       "        1.17725746e-10, 1.20428922e-09, 1.85160581e-10, 8.92936747e-09,\n",
       "        6.26620153e-12, 1.79744202e-08, 5.33509958e-10, 3.26549482e-10,\n",
       "        6.61758293e-08, 9.48981072e-09, 4.84387495e-11, 4.14068602e-09,\n",
       "        1.55379546e-11, 8.76160602e-12, 1.05790876e-10, 1.96506056e-09,\n",
       "        4.08463506e-11, 2.11721241e-09, 3.00293941e-05, 6.98860414e-11,\n",
       "        2.00996531e-09, 1.14224290e-11, 9.63192015e-09, 5.73058051e-12,\n",
       "        5.90627807e-12, 5.41595033e-11, 1.80511883e-10, 4.44824663e-11,\n",
       "        2.88984463e-08, 2.62606803e-09, 2.05611875e-10, 1.61965337e-11,\n",
       "        4.35806413e-09, 2.01341360e-10, 7.12475634e-11, 1.05689228e-10,\n",
       "        3.98014927e-05, 2.57955102e-10, 6.47522924e-09, 1.07710056e-10,\n",
       "        3.15023452e-10, 4.31331770e-09, 3.33068897e-06, 1.32735795e-10,\n",
       "        1.31172115e-10, 9.99653125e-08, 1.92212019e-06, 1.04302278e-09,\n",
       "        5.23802703e-11, 1.35384370e-08, 6.49827581e-10, 6.38892897e-11,\n",
       "        2.42684983e-09, 3.70616915e-09, 1.97355687e-09, 1.14546661e-09,\n",
       "        8.31839986e-10, 1.35594341e-10, 1.04845048e-08, 1.41024648e-09,\n",
       "        1.60004197e-11, 5.84596052e-11, 2.05125095e-09, 8.10910616e-10,\n",
       "        1.00791164e-09, 1.31707807e-07, 1.51725343e-09, 2.09991491e-09,\n",
       "        5.54869171e-11, 2.56659943e-10, 5.15545011e-08, 2.42048892e-09,\n",
       "        4.22041531e-08, 2.13199014e-10, 1.22197938e-11, 1.07437670e-12,\n",
       "        1.28196828e-10, 5.00783970e-10, 8.65756512e-12, 5.61474027e-11,\n",
       "        9.11436260e-09, 9.47829523e-11, 1.45166778e-11, 1.17597780e-11,\n",
       "        5.01909669e-09, 6.56486310e-10, 6.16393425e-09, 7.02041411e-11,\n",
       "        7.04281466e-10, 1.01952185e-06, 7.46092910e-11, 2.08540504e-10,\n",
       "        7.35137905e-12, 4.96593444e-03, 7.32458690e-13, 3.78064380e-09,\n",
       "        1.08411138e-08, 4.94740262e-13, 2.37120612e-09, 1.35518766e-11,\n",
       "        7.87932653e-13, 3.52897656e-10, 2.18410637e-10, 2.16232005e-10,\n",
       "        2.65135451e-08, 2.88821744e-09, 1.32525574e-10, 1.53038059e-07,\n",
       "        4.08098124e-08, 1.25936872e-10, 5.10415599e-10, 1.16606658e-09,\n",
       "        7.11719461e-10, 1.21194110e-10, 8.29439684e-10, 4.54121363e-09,\n",
       "        1.47051638e-09, 1.43903234e-09, 8.81432635e-11, 4.29932728e-10,\n",
       "        1.17080012e-09, 1.02214093e-09, 3.95615068e-10, 4.63861554e-08,\n",
       "        4.43478518e-11, 4.04143776e-08, 1.97973615e-09, 1.17035461e-11,\n",
       "        2.32327907e-11, 3.18687143e-09, 5.96475980e-09, 3.14784532e-09,\n",
       "        4.75935069e-09, 7.42137740e-10, 2.15148802e-10, 1.67553901e-10,\n",
       "        4.11019864e-11, 8.05441130e-11, 1.06550524e-09, 8.48293968e-09,\n",
       "        5.19968679e-10, 1.83395468e-06, 1.50303728e-11, 8.22288293e-10,\n",
       "        5.88032609e-11, 8.57782234e-10, 1.80009996e-09, 1.74052682e-11,\n",
       "        2.16634016e-05, 5.57742498e-11, 3.28726224e-09, 1.46488453e-12,\n",
       "        7.07203532e-11, 2.67547044e-11, 2.27745828e-13, 8.38045605e-11,\n",
       "        1.47673171e-08, 4.93713265e-11, 1.05184056e-10, 6.65363764e-09,\n",
       "        1.19335941e-09, 3.74365339e-09, 2.77446355e-09, 3.86774772e-08,\n",
       "        1.59631489e-10, 4.82795981e-09, 7.11439228e-08, 1.14510612e-09,\n",
       "        2.15818322e-10, 4.37890918e-10, 7.76692079e-14, 2.87666126e-07,\n",
       "        5.66754332e-09, 1.33868028e-09, 1.95777922e-10, 2.14685664e-13,\n",
       "        3.50633411e-09, 6.91399205e-09, 3.83604393e-09, 3.39846884e-09,\n",
       "        2.62439048e-09, 8.00395028e-11, 2.37028019e-12, 2.11976908e-10,\n",
       "        6.13608675e-09, 1.13591314e-09, 2.86943004e-11, 6.16445162e-09,\n",
       "        9.78334341e-12, 1.70070827e-02, 5.79122679e-05, 1.66174838e-10,\n",
       "        7.15200743e-09, 2.00746520e-11, 1.34285953e-12, 4.54022403e-10,\n",
       "        5.10835124e-11, 5.17557386e-10, 4.98115860e-09, 1.02376629e-09,\n",
       "        2.17547508e-10, 2.84981816e-10, 1.03786670e-06, 1.17799069e-03,\n",
       "        6.47817342e-06, 1.42399784e-07, 5.34125022e-04, 1.83871111e-06,\n",
       "        5.62289642e-07, 2.51644949e-09, 4.26737961e-06, 6.00097181e-08,\n",
       "        7.30621878e-07, 1.10860388e-08, 3.09805728e-08, 5.94674157e-06,\n",
       "        1.70952831e-06, 2.08384772e-05, 1.76055037e-05, 1.26694550e-03,\n",
       "        2.65909603e-06, 4.33925306e-05, 1.70597616e-06, 2.06826508e-06,\n",
       "        3.65410756e-07, 8.82829227e-07, 5.09366216e-10, 2.03469722e-06,\n",
       "        3.37744314e-06, 2.76499819e-08, 4.61769218e-07, 3.73987774e-09,\n",
       "        1.42990118e-07, 1.54944762e-04, 6.13075599e-08, 1.57133275e-06,\n",
       "        2.01734434e-08, 1.98904804e-08, 5.37984657e-10, 6.22289053e-06,\n",
       "        1.86268508e-07, 1.78587793e-08, 4.90272287e-05, 9.71672833e-01,\n",
       "        5.38973254e-04, 3.50437887e-07, 1.24982762e-07, 3.26317251e-10,\n",
       "        6.13334894e-09, 2.26248265e-09, 1.08353508e-11, 3.25291738e-11,\n",
       "        1.68172157e-10, 6.27839516e-11, 2.12685013e-12, 7.31305350e-10,\n",
       "        5.80445978e-12, 1.35793295e-11, 6.93654648e-11, 2.87749772e-11,\n",
       "        4.42088987e-12, 5.94680295e-12, 6.58846133e-09, 1.29160949e-09,\n",
       "        1.06249301e-10, 7.70709008e-08, 9.69390956e-11, 5.38682389e-06,\n",
       "        9.10652531e-09, 3.54638052e-09, 1.74402555e-08, 4.03061229e-09,\n",
       "        1.44203156e-07, 2.87654611e-09, 1.85831150e-09, 1.66175962e-08,\n",
       "        1.08181359e-06, 3.46385576e-07, 1.41716555e-07, 9.76565495e-11]],\n",
       "      dtype=float32)"
      ]
     },
     "execution_count": 8,
     "metadata": {},
     "output_type": "execute_result"
    }
   ],
   "source": [
    "# Code it!\n",
    "my_result = my_model.predict(my_image)\n",
    "my_result"
   ]
  },
  {
   "cell_type": "markdown",
   "metadata": {},
   "source": [
    "How could you verify that there are 1,000 numbers in the `my_result` variable?\n",
    "\n",
    "* Try coding that.\n",
    "* You may get a clearly incorrect answer. Look closely at how `my_result` printed and see if you can figure out how to get the number of values.\n",
    "   * Hint, how many square bracket sets are there in `my_result`? "
   ]
  },
  {
   "cell_type": "code",
   "execution_count": 26,
   "metadata": {
    "tags": []
   },
   "outputs": [
    {
     "data": {
      "text/plain": [
       "1000"
      ]
     },
     "execution_count": 26,
     "metadata": {},
     "output_type": "execute_result"
    }
   ],
   "source": [
    "# Code it\n",
    "len(my_result[0])"
   ]
  },
  {
   "cell_type": "markdown",
   "metadata": {},
   "source": [
    "## 9. Get prediction label\n",
    "\n",
    "The model's predict method returns an array with 1,000 numbers. Each number is the \"probability\" that the input image belongs to the corresponding category. The category list is in [this text file](ImageNet_1K_labels.txt).\n",
    "\n",
    "Convert this to its corresponding text label. We could find the maximum value and look up the category, but the `decode_predictions` function does this for us. According to [the documentation](https://www.tensorflow.org/api_docs/python/tf/keras/applications/resnet50/decode_predictions), `decode_predictions` returns: class name, class label and probability of the top five results by default.\n",
    "\n",
    "```python\n",
    "# Decode the prediction result to get human-readable class labels\n",
    "my_label = decode_predictions(my_result) \n",
    "my_label\n",
    "```"
   ]
  },
  {
   "cell_type": "code",
   "execution_count": 27,
   "metadata": {
    "tags": []
   },
   "outputs": [
    {
     "name": "stdout",
     "output_type": "stream",
     "text": [
      "Downloading data from https://storage.googleapis.com/download.tensorflow.org/data/imagenet_class_index.json\n",
      "35363/35363 [==============================] - 0s 0us/step\n"
     ]
    },
    {
     "data": {
      "text/plain": [
       "[[('n07873807', 'pizza', 0.97167283),\n",
       "  ('n04596742', 'wok', 0.017007083),\n",
       "  ('n04270147', 'spatula', 0.0049659344),\n",
       "  ('n07716358', 'zucchini', 0.0012669455),\n",
       "  ('n07579787', 'plate', 0.0011779907)]]"
      ]
     },
     "execution_count": 27,
     "metadata": {},
     "output_type": "execute_result"
    }
   ],
   "source": [
    "# Code it!\n",
    "my_label = decode_predictions(my_result)\n",
    "my_label"
   ]
  },
  {
   "cell_type": "markdown",
   "metadata": {},
   "source": [
    "## 10. Assign list item to a variable \n",
    "\n",
    "Assign the first item listed by the prediction to a variable - this is the label with the highest probability.\n",
    "\n",
    "* Extract the label with the highest predicted probability. \n",
    "   * Recalling that in Python, all indexes start at 0, the [0][0] indexing retrieves the first prediction from the first batch of results.\n",
    "\n",
    "```python\n",
    "my_label = my_label[0][0] \n",
    "my_label\n",
    "```"
   ]
  },
  {
   "cell_type": "code",
   "execution_count": 30,
   "metadata": {
    "tags": []
   },
   "outputs": [
    {
     "data": {
      "text/plain": [
       "('n07873807', 'pizza', 0.97167283)"
      ]
     },
     "execution_count": 30,
     "metadata": {},
     "output_type": "execute_result"
    }
   ],
   "source": [
    "# Code it!\n",
    "my_label = my_label[0][0]\n",
    "my_label"
   ]
  },
  {
   "cell_type": "markdown",
   "metadata": {},
   "source": [
    "## 11. Print the label \n",
    "\n",
    "Include the label in a sentence and then print it.\n",
    "\n",
    "* The `my_label` variable contains information about the prediction in the format (ID, Label, Probability).\n",
    "* Using `my_label[1]` extracts the human-readable label (e.g., 'pizza') for the predicted class.\n",
    "\n",
    "```python\n",
    "# Print the predicted class label in a formatted string\n",
    "print(f\"This is an image of a {my_label[1]}!\") \n",
    "```"
   ]
  },
  {
   "cell_type": "code",
   "execution_count": 31,
   "metadata": {
    "tags": []
   },
   "outputs": [
    {
     "name": "stdout",
     "output_type": "stream",
     "text": [
      "This is an image of a pizza!\n"
     ]
    }
   ],
   "source": [
    "# Code it!\n",
    "print(f'This is an image of a {my_label[1]}!')"
   ]
  },
  {
   "cell_type": "markdown",
   "metadata": {},
   "source": [
    "### <img src='images/tip_icon.svg' width=40, align='center' alt='Tip icon'> Tip\n",
    "> Although we use an image of a pizza here, you can use just about any image with\n",
    "> this model. Try out this exercise multiple times with different images to see if \n",
    "> you can fool it. The [ImageNet_1K_labels.txt](https://raw.githubusercontent.com/PracticumAI/deep_learning/main/Image_Net_1K_labels.txt) \n",
    "> file lists all the image categories this model is trained to classify."
   ]
  },
  {
   "cell_type": "markdown",
   "metadata": {},
   "source": [
    "## 12. Create a speech sentence\n",
    "\n",
    "As a busy scientist, Dr. Amelia tries to multi-task as much as possible. Now that she has the image recognition step worked out, she wants to add an audio component to her program to read the results while working out at the gym.\n",
    "\n",
    "Luckily, text-to-speech technology is as easy to implement as image recognition! Let's help Amelia get the next step of her prototype up and running!\n",
    "\n",
    "Create a longer sentence to convert to speech. \n",
    "```python\n",
    "say_it = f\"This participant is eating {my_label[1]} today.\"\n",
    "```"
   ]
  },
  {
   "cell_type": "code",
   "execution_count": 33,
   "metadata": {
    "tags": []
   },
   "outputs": [],
   "source": [
    "# Code it!\n",
    "say_it = f'This participant is eating {my_label[1]} today.'"
   ]
  },
  {
   "cell_type": "markdown",
   "metadata": {},
   "source": [
    "## 13. Execute the gtts function\n",
    "\n",
    "Pass the say_it variable to the gTTS API.\n",
    "\n",
    "```python\n",
    "my_speech = gTTS(text = say_it)\n",
    "```"
   ]
  },
  {
   "cell_type": "code",
   "execution_count": 34,
   "metadata": {
    "tags": []
   },
   "outputs": [],
   "source": [
    "# Code it!\n",
    "my_speech = gTTS(text = say_it)"
   ]
  },
  {
   "cell_type": "markdown",
   "metadata": {},
   "source": [
    "## 14. Save the audio file\n",
    "\n",
    "gTTS will convert the string you gave it into an audio file. Save the audio file. The default location is the current directory.\n",
    "\n",
    "```python\n",
    "# Save the audio file in the current directory.\n",
    "my_speech.save(\"prediction.mp3\") \n",
    "```"
   ]
  },
  {
   "cell_type": "code",
   "execution_count": 35,
   "metadata": {
    "tags": []
   },
   "outputs": [],
   "source": [
    "# Code it!\n",
    "my_speech.save('prediction.mp3')"
   ]
  },
  {
   "cell_type": "markdown",
   "metadata": {},
   "source": [
    "### <img src='images/note_icon.svg' width=40, align='center' alt='Note icon'> Note\n",
    "> This last block of code is only needed if you are running Jupyter Notebooks \n",
    "> on a local computer.  Otherwise, download the .mp3 file from your HPC system and\n",
    "> listen to it on your computer."
   ]
  },
  {
   "cell_type": "code",
   "execution_count": null,
   "metadata": {},
   "outputs": [],
   "source": [
    "# Uncomment and run if running on local system as opposed to HPC or Google Colab\n",
    "# os.system(\"prediction.mp3\")"
   ]
  },
  {
   "cell_type": "markdown",
   "metadata": {},
   "source": [
    "## 15. Let's put it all together\n",
    "\n",
    "We can put all of these steps together in a function to make it easier to test more images."
   ]
  },
  {
   "cell_type": "code",
   "execution_count": 36,
   "metadata": {
    "tags": []
   },
   "outputs": [],
   "source": [
    "def what_are_they_eating(image):\n",
    "    '''Takes an image and returns a ResNet50 prediction.'''\n",
    "    my_image = load_img(image, target_size = (224, 224))\n",
    "    my_image = img_to_array(my_image)\n",
    "    my_image = my_image.reshape((1, 224, 224, 3))\n",
    "    my_image = preprocess_input(my_image)\n",
    "    my_result = my_model.predict(my_image)\n",
    "    my_label = decode_predictions(my_result)\n",
    "\n",
    "    return my_label[0][0]\n",
    "\n",
    "def tell_me_what_they_ate(label):\n",
    "    '''Takes a label and returns a mp3 speech file with the item that was eaten.'''\n",
    "    say_it = f\"This participant is eating {label} today.\"\n",
    "    my_speech = gTTS(text = say_it)\n",
    "    my_speech.save(f\"{label}_prediction.mp3\")\n",
    "    print(f\"Sound file saved to {label}_prediction.mp3\")"
   ]
  },
  {
   "cell_type": "code",
   "execution_count": 37,
   "metadata": {
    "tags": []
   },
   "outputs": [
    {
     "name": "stdout",
     "output_type": "stream",
     "text": [
      "1/1 [==============================] - 0s 93ms/step\n",
      "('n07875152', 'potpie', 0.5203977)\n",
      "Sound file saved to potpie_prediction.mp3\n"
     ]
    }
   ],
   "source": [
    "# Now run on a new image of pizza\n",
    "# Image courtesy of Ruslan Khmelevsky https://www.pexels.com/photo/a-pizza-inside-the-brick-oven-14129177/\n",
    "label = what_are_they_eating('images/hawaiian_pizza_khmelevsky.jpg')\n",
    "print(label)\n",
    "\n",
    "tell_me_what_they_ate(label[1])"
   ]
  },
  {
   "cell_type": "markdown",
   "metadata": {},
   "source": [
    "## 16. Test other items\n",
    "Amelia should also test with some other food items to ensure her system is working. Let's try this burger.\n",
    "\n",
    "![Photo of a hamburger](images/hamburger.jpg)"
   ]
  },
  {
   "cell_type": "code",
   "execution_count": 38,
   "metadata": {
    "tags": []
   },
   "outputs": [
    {
     "name": "stdout",
     "output_type": "stream",
     "text": [
      "1/1 [==============================] - 0s 97ms/step\n",
      "('n07697313', 'cheeseburger', 0.76266855)\n",
      "Sound file saved to cheeseburger_prediction.mp3\n"
     ]
    }
   ],
   "source": [
    "label = what_are_they_eating('images/hamburger.jpg')\n",
    "print(label)\n",
    "\n",
    "tell_me_what_they_ate(label[1])"
   ]
  },
  {
   "cell_type": "markdown",
   "metadata": {},
   "source": [
    "#### How did that work?\n",
    " \n",
    "Amelia's classifier works well, predicting that the image is a cheeseburger. But...I don't see any cheese on that burger! Why do you think the cheeseburger category was selected? Remember to look at the [ImageNet categories](ImageNet_1K_labels.txt). \n",
    "\n",
    "Remember, a model will output probabilities of the categories it was trained on, and all the output probabilities must sum to one. The model has no mechanism to tell you it doesn't recognize the image!\n",
    "\n",
    "\n",
    "## 17. More challenges\n",
    "\n",
    "Hmm...While reviewing some predictions, Amelia discovers a problem. Did the participant eat pizza again? or is this a quiche?\n",
    "\n",
    "![A photo of quiche](images/quiche.jpg)"
   ]
  },
  {
   "cell_type": "code",
   "execution_count": 40,
   "metadata": {
    "tags": []
   },
   "outputs": [
    {
     "name": "stdout",
     "output_type": "stream",
     "text": [
      "1/1 [==============================] - 0s 103ms/step\n",
      "('n07873807', 'pizza', 0.2877471)\n",
      "Sound file saved to pizza_prediction.mp3\n"
     ]
    }
   ],
   "source": [
    "label = what_are_they_eating('images/quiche.jpg')\n",
    "print(label)\n",
    "\n",
    "tell_me_what_they_ate(label[1])"
   ]
  },
  {
   "cell_type": "markdown",
   "metadata": {},
   "source": [
    "Again, consider the importance of training data representing the data used when the model is deployed. Recognize the limitations of models to make predictions based on the training categories. \n",
    "\n",
    "These issues relate to the discussion of AI ethics and how well your AI model will work. If the training data do not represent the data used in deployment, AI models will be of limited value and can even be misleading. The consequences may be manageable for Amelia's research study, but we must carefully evaluate the performance and suitability of all AI models as we work with them.\n",
    "\n",
    "Hopefully, this fun exercise showed how easy it can be to use AI models to accomplish everyday tasks like image classification and text-to-speech. \n",
    "\n",
    "### Further refinement\n",
    "\n",
    "As we have helped Dr. Amelia discover, she may be unable to use ResNet50 trained on ImageNet for her task. There are too few food categories to work reliably for her study. Does that mean she needs to start from scratch?\n",
    "\n",
    "No! In a future *Practicum AI* course, you can learn about **transfer learning**. Transfer learning allows you to take a model trained on one dataset and fine-tune it for a new dataset. With transfer learning, you can harness the information a model has learned about its training data, 1,000 categories of objects in the case of ImageNet, and add new information specific to your task. The advantage here is that you typically need far less data to train a model to recognize many food types, for example, when it already knows about food and many other things in the world!\n",
    "\n",
    "\n",
    "Please tune in to our next notebook to see what Amelia is up to next!\n"
   ]
  },
  {
   "cell_type": "markdown",
   "metadata": {},
   "source": [
    "## Bonus Exercises\n",
    "\n",
    "1. Change the code so that if the confidence of the model's prediction is less than 0.75, the code output says it's not sure what the image is.\n",
    "1. Change the code to output the top *n* categories and their probabilities.\n",
    "1. Change the code so that each loaded image has its label added to a list saved to a text file.\n",
    "\n",
    "\n",
    "## Before continuing\n",
    "###  <img src='images/alert_icon.svg' alt=\"Alert icon\" width=40 align=center> Alert!\n",
    "> Before continuing to another notebook within the same Jupyter session,\n",
    "> use the **\"Running Terminals and Kernels\" tab** (below the File Browser tab) to **shut down this kernel**. \n",
    "> This will free up this notebook's GPU memory, making it available for\n",
    "> your next notebook.\n",
    ">\n",
    "> Every time you run multiple notebooks within a Jupyter session with a GPU, this should be done.\n",
    ">\n",
    "> ![Screenshot of the Running Terminals and Kernels tab used t oshut down kernels before starting a new notebook](images/stop_kernel.png)"
   ]
  },
  {
   "cell_type": "markdown",
   "metadata": {
    "tags": []
   },
   "source": [
    "----\n",
    "## Push changes to GitHub <img src=\"images/push_to_github.png\" alt=\"Push to GitHub icon\" align=\"right\" width=150>\n",
    "\n",
    " Remember to **add**, **commit**, and **push** the changes you have made to this notebook to GitHub to keep your repository in sync.\n",
    "\n",
    "In Jupyter, those are done in the git tab on the left. In Google Colab, use File > Save a copy in GitHub.\n"
   ]
  },
  {
   "cell_type": "code",
   "execution_count": null,
   "metadata": {},
   "outputs": [],
   "source": []
  }
 ],
 "metadata": {
  "kernelspec": {
   "display_name": "Tensorflow-2.15",
   "language": "python",
   "name": "tensorflow-2.15"
  },
  "language_info": {
   "codemirror_mode": {
    "name": "ipython",
    "version": 3
   },
   "file_extension": ".py",
   "mimetype": "text/x-python",
   "name": "python",
   "nbconvert_exporter": "python",
   "pygments_lexer": "ipython3",
   "version": "3.11.5"
  }
 },
 "nbformat": 4,
 "nbformat_minor": 4
}
